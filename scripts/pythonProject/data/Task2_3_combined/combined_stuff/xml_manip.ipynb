{
 "cells": [
  {
   "cell_type": "code",
   "execution_count": 1,
   "metadata": {},
   "outputs": [
    {
     "name": "stdout",
     "output_type": "stream",
     "text": [
      "XML file updated and saved as 'modified_xml_file.xml'\n"
     ]
    }
   ],
   "source": [
    "import xml.etree.ElementTree as ET\n",
    "\n",
    "tree = ET.parse('NBER_working_papers.xml')\n",
    "root = tree.getroot()\n",
    "\n",
    "start_id = 2934\n",
    "\n",
    "for rec in root.findall('rec'):\n",
    "    rec.set('resultID', str(start_id))\n",
    "    start_id += 1  \n",
    "\n",
    "# Save the modified XML back to a file\n",
    "tree.write('NBER_working_papers_modified.xml', encoding='utf-8', xml_declaration=True)\n",
    "\n",
    "print(\"XML file updated and saved as 'modified_xml_file.xml'\")\n"
   ]
  }
 ],
 "metadata": {
  "kernelspec": {
   "display_name": "Python 3",
   "language": "python",
   "name": "python3"
  },
  "language_info": {
   "codemirror_mode": {
    "name": "ipython",
    "version": 3
   },
   "file_extension": ".py",
   "mimetype": "text/x-python",
   "name": "python",
   "nbconvert_exporter": "python",
   "pygments_lexer": "ipython3",
   "version": "3.11.8"
  }
 },
 "nbformat": 4,
 "nbformat_minor": 2
}
