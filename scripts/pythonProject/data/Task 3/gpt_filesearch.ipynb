{
 "cells": [
  {
   "cell_type": "markdown",
   "metadata": {},
   "source": []
  },
  {
   "cell_type": "markdown",
   "metadata": {},
   "source": [
    "##### Step 1: Create a new Assistant with File Search Enabled"
   ]
  },
  {
   "cell_type": "code",
   "execution_count": 1,
   "metadata": {},
   "outputs": [],
   "source": [
    "from openai import OpenAI\n",
    "from dotenv import load_dotenv\n",
    "import os\n",
    "\n",
    "env_path = \"../../keys.env\"\n",
    "\n",
    "load_dotenv(dotenv_path=env_path)\n",
    "api_key = os.getenv(\"API_KEY\")\n",
    "project = os.getenv(\"PROJECT\")\n",
    "organization = os.getenv(\"ORGANIZATION\")\n"
   ]
  },
  {
   "cell_type": "code",
   "execution_count": 2,
   "metadata": {},
   "outputs": [],
   "source": [
    "\n",
    " \n",
    "client = OpenAI(\n",
    " organization=organization,\n",
    " project=project,\n",
    " api_key=api_key \n",
    ")\n",
    "\n"
   ]
  },
  {
   "cell_type": "code",
   "execution_count": 3,
   "metadata": {},
   "outputs": [
    {
     "name": "stdout",
     "output_type": "stream",
     "text": [
      "Assistant ID: asst_EEaiZaR394wa9UIPrXAX6gr0\n",
      "Name: Research Paper Analyst\n",
      "Model: gpt-4o\n",
      "Tools: [FileSearchTool(type='file_search', file_search=FileSearch(max_num_results=None, ranking_options=FileSearchRankingOptions(score_threshold=0.0, ranker='default_2024_08_21')))]\n",
      "------------------------------\n"
     ]
    }
   ],
   "source": [
    "assistants = client.beta.assistants.list()\n",
    "for assistant in assistants.data:\n",
    "    print(f\"Assistant ID: {assistant.id}\")\n",
    "    print(f\"Name: {assistant.name}\")\n",
    "    print(f\"Model: {assistant.model}\")\n",
    "    print(f\"Tools: {assistant.tools}\")\n",
    "    print(\"-\" * 30)"
   ]
  },
  {
   "cell_type": "code",
   "execution_count": 4,
   "metadata": {},
   "outputs": [],
   "source": [
    "assistant = client.beta.assistants.retrieve(\"asst_EEaiZaR394wa9UIPrXAX6gr0\")\n"
   ]
  },
  {
   "cell_type": "code",
   "execution_count": null,
   "metadata": {},
   "outputs": [],
   "source": [
    "# no need to create it anymore\n",
    " \n",
    "assistant = client.beta.assistants.create(\n",
    "  name=\"Health Economics Research Paper Analyst\",\n",
    "  instructions=\"You are an scientific researcher in the area of health economics. Use your knowledge base to help answer questions about the health economics research papers.\",\n",
    "  model=\"gpt-4o\",\n",
    "  tools=[{\"type\": \"file_search\"}],\n",
    ")"
   ]
  },
  {
   "cell_type": "markdown",
   "metadata": {},
   "source": [
    "##### Step 2: Upload files and add them to a Vector Store"
   ]
  },
  {
   "cell_type": "code",
   "execution_count": 5,
   "metadata": {},
   "outputs": [
    {
     "name": "stdout",
     "output_type": "stream",
     "text": [
      "completed\n",
      "FileCounts(cancelled=0, completed=1, failed=0, in_progress=0, total=1)\n"
     ]
    }
   ],
   "source": [
    "vector_store = client.beta.vector_stores.create(name=\"Health Economics Research Papers\", expires_after={\"anchor\": \"last_active_at\", \"days\": 1})\n",
    " \n",
    "file_paths = [\"test_pdfs/guidetti-et-al-2021-placebo-tests-for-the-impacts-of-air-pollution-on-health-the-challenge-of-limited-health-care.pdf\"]\n",
    "file_streams = [open(path, \"rb\") for path in file_paths]\n",
    " \n",
    "\n",
    "file_batch = client.beta.vector_stores.file_batches.upload_and_poll(\n",
    "  vector_store_id=vector_store.id, files=file_streams\n",
    ")\n",
    " \n",
    "print(file_batch.status)\n",
    "print(file_batch.file_counts)"
   ]
  },
  {
   "cell_type": "code",
   "execution_count": 6,
   "metadata": {},
   "outputs": [
    {
     "name": "stdout",
     "output_type": "stream",
     "text": [
      "completed\n"
     ]
    }
   ],
   "source": [
    "print(file_batch.status)\n",
    "# wait till finish!!!!!!"
   ]
  },
  {
   "cell_type": "markdown",
   "metadata": {},
   "source": [
    ".upload_and_poll():\n",
    "1. Upload the file: The function uploads a file to the OpenAI vector store. The file could be in-memory (as bytes) or from a specified path.\n",
    "2. Poll for completion: After uploading, it checks (polls) whether the file has been successfully processed and indexed. This is useful in cases where the processing takes time, and you want to wait until the file is fully ready for use in tasks like document search or interaction with an assistant."
   ]
  },
  {
   "cell_type": "markdown",
   "metadata": {},
   "source": [
    "##### Step 3: Update the assistant to use the new Vector Store"
   ]
  },
  {
   "cell_type": "code",
   "execution_count": 8,
   "metadata": {},
   "outputs": [],
   "source": [
    "assistant_id = \"asst_EEaiZaR394wa9UIPrXAX6gr0\"\n"
   ]
  },
  {
   "cell_type": "code",
   "execution_count": 9,
   "metadata": {},
   "outputs": [],
   "source": [
    "assistant = client.beta.assistants.update(\n",
    "  assistant_id=assistant_id,\n",
    "  tool_resources={\"file_search\": {\"vector_store_ids\": [vector_store.id]}},\n",
    ")"
   ]
  },
  {
   "cell_type": "markdown",
   "metadata": {},
   "source": [
    "##### Step 4: Create a thread"
   ]
  },
  {
   "cell_type": "code",
   "execution_count": 10,
   "metadata": {},
   "outputs": [],
   "source": [
    "\n",
    "queries = {\n",
    "    \"Paper_ID\": \"Extract the unique identifier for this paper, if available. If not leave empty.\",\n",
    "    \"Title\": \"Please provide the title of the paper.\",\n",
    "    \"Authors\": \"List the authors of the paper.\",\n",
    "    \"Year_of_Publication\": \"What year was this paper published?\",\n",
    "    \"Journal_Name\": \"Provide the name of the journal where this paper was published.\",\n",
    "    \"DOI_URL\": \"Extract the DOI or URL for this paper.\",\n",
    "    \"Theory_Hypotheses\": \"Please extract the main theories or hypotheses of the study.\",\n",
    "    \"Identification_Strategy\": \"Please explain the approach to establishing causality used in this study.\",\n",
    "    \"Exogeneity_Assumptions\": \"List any assumptions about exogeneity made in this study.\",\n",
    "    \"Control_Treatment_Definition\": \"Define the control and treatment groups as described in the study.\",\n",
    "    \"Intervention_Components\": \"List the specific components of the intervention.\",\n",
    "    \"Intervention_Timing\": \"Describe the timing of the intervention.\",\n",
    "    \"Sample_Size\": \"Provide the size of the sample studied.\",\n",
    "    \"Country_Region\": \"Specify the country or region where the study was conducted.\",\n",
    "    \"Population_Demographics\": \"Summarize the demographics of the population studied.\",\n",
    "    \"Data_Source\": \"What is the source of the data used in this study?\",\n",
    "    \"Health_Economic_Outcome_Measured\": \"List the health or economic outcomes measured in this study.\",\n",
    "    \"Key_Findings\": \"Summarize the main findings of the study.\",\n",
    "    \"Causal_Estimates\": \"Provide estimates of causal impact found in the study.\",\n",
    "    \"Statistical_Significance\": \"Comment on the statistical significance of the results.\",\n",
    "    \"Robustness_Checks\": \"Describe any robustness checks performed.\",\n",
    "    \"Heterogeneity_Subgroup_Analysis\": \"Explain if any heterogeneity or subgroup analysis was conducted.\",\n",
    "    \"Limitations\": \"List any limitations of the study.\",\n",
    "    \"Endogeneity_Selection_Concerns\": \"Describe concerns about endogeneity or selection bias, if any.\",\n",
    "    \"Policy_Implications\": \"What are the policy implications of the study’s findings?\"\n",
    "}\n",
    "\n",
    "thread = client.beta.threads.create(\n",
    "    #assistant_id=assistant_id,\n",
    "    #description=\"Research paper analysis\"\n",
    ")\n",
    "thread_id = thread.id\n",
    "\n",
    "responses = {}\n",
    "for heading, query in queries.items():\n",
    "    response = client.beta.threads.messages.create(\n",
    "    role= \"user\",\n",
    "    thread_id=thread_id,  # Pass the thread_id to maintain context\n",
    "    content=query\n",
    "    )\n",
    "    responses[heading] = response.content\n"
   ]
  },
  {
   "cell_type": "code",
   "execution_count": 11,
   "metadata": {},
   "outputs": [
    {
     "name": "stdout",
     "output_type": "stream",
     "text": [
      "Paper_ID:\n",
      "[TextContentBlock(text=Text(annotations=[], value='Extract the unique identifier for this paper, if available. If not leave empty.'), type='text')]\n",
      "--------------------------------------------------\n",
      "Title:\n",
      "[TextContentBlock(text=Text(annotations=[], value='Please provide the title of the paper.'), type='text')]\n",
      "--------------------------------------------------\n",
      "Authors:\n",
      "[TextContentBlock(text=Text(annotations=[], value='List the authors of the paper.'), type='text')]\n",
      "--------------------------------------------------\n",
      "Year_of_Publication:\n",
      "[TextContentBlock(text=Text(annotations=[], value='What year was this paper published?'), type='text')]\n",
      "--------------------------------------------------\n",
      "Journal_Name:\n",
      "[TextContentBlock(text=Text(annotations=[], value='Provide the name of the journal where this paper was published.'), type='text')]\n",
      "--------------------------------------------------\n",
      "DOI_URL:\n",
      "[TextContentBlock(text=Text(annotations=[], value='Extract the DOI or URL for this paper.'), type='text')]\n",
      "--------------------------------------------------\n",
      "Theory_Hypotheses:\n",
      "[TextContentBlock(text=Text(annotations=[], value='Please extract the main theories or hypotheses of the study.'), type='text')]\n",
      "--------------------------------------------------\n",
      "Identification_Strategy:\n",
      "[TextContentBlock(text=Text(annotations=[], value='Please explain the approach to establishing causality used in this study.'), type='text')]\n",
      "--------------------------------------------------\n",
      "Exogeneity_Assumptions:\n",
      "[TextContentBlock(text=Text(annotations=[], value='List any assumptions about exogeneity made in this study.'), type='text')]\n",
      "--------------------------------------------------\n",
      "Control_Treatment_Definition:\n",
      "[TextContentBlock(text=Text(annotations=[], value='Define the control and treatment groups as described in the study.'), type='text')]\n",
      "--------------------------------------------------\n",
      "Intervention_Components:\n",
      "[TextContentBlock(text=Text(annotations=[], value='List the specific components of the intervention.'), type='text')]\n",
      "--------------------------------------------------\n",
      "Intervention_Timing:\n",
      "[TextContentBlock(text=Text(annotations=[], value='Describe the timing of the intervention.'), type='text')]\n",
      "--------------------------------------------------\n",
      "Sample_Size:\n",
      "[TextContentBlock(text=Text(annotations=[], value='Provide the size of the sample studied.'), type='text')]\n",
      "--------------------------------------------------\n",
      "Country_Region:\n",
      "[TextContentBlock(text=Text(annotations=[], value='Specify the country or region where the study was conducted.'), type='text')]\n",
      "--------------------------------------------------\n",
      "Population_Demographics:\n",
      "[TextContentBlock(text=Text(annotations=[], value='Summarize the demographics of the population studied.'), type='text')]\n",
      "--------------------------------------------------\n",
      "Data_Source:\n",
      "[TextContentBlock(text=Text(annotations=[], value='What is the source of the data used in this study?'), type='text')]\n",
      "--------------------------------------------------\n",
      "Health_Economic_Outcome_Measured:\n",
      "[TextContentBlock(text=Text(annotations=[], value='List the health or economic outcomes measured in this study.'), type='text')]\n",
      "--------------------------------------------------\n",
      "Key_Findings:\n",
      "[TextContentBlock(text=Text(annotations=[], value='Summarize the main findings of the study.'), type='text')]\n",
      "--------------------------------------------------\n",
      "Causal_Estimates:\n",
      "[TextContentBlock(text=Text(annotations=[], value='Provide estimates of causal impact found in the study.'), type='text')]\n",
      "--------------------------------------------------\n",
      "Statistical_Significance:\n",
      "[TextContentBlock(text=Text(annotations=[], value='Comment on the statistical significance of the results.'), type='text')]\n",
      "--------------------------------------------------\n",
      "Robustness_Checks:\n",
      "[TextContentBlock(text=Text(annotations=[], value='Describe any robustness checks performed.'), type='text')]\n",
      "--------------------------------------------------\n",
      "Heterogeneity_Subgroup_Analysis:\n",
      "[TextContentBlock(text=Text(annotations=[], value='Explain if any heterogeneity or subgroup analysis was conducted.'), type='text')]\n",
      "--------------------------------------------------\n",
      "Limitations:\n",
      "[TextContentBlock(text=Text(annotations=[], value='List any limitations of the study.'), type='text')]\n",
      "--------------------------------------------------\n",
      "Endogeneity_Selection_Concerns:\n",
      "[TextContentBlock(text=Text(annotations=[], value='Describe concerns about endogeneity or selection bias, if any.'), type='text')]\n",
      "--------------------------------------------------\n",
      "Policy_Implications:\n",
      "[TextContentBlock(text=Text(annotations=[], value='What are the policy implications of the study’s findings?'), type='text')]\n",
      "--------------------------------------------------\n"
     ]
    }
   ],
   "source": [
    "\n",
    "for section, response_data in responses.items():\n",
    "    print(f\"{section}:\\n{response_data}\\n{'-' * 50}\")"
   ]
  },
  {
   "cell_type": "code",
   "execution_count": null,
   "metadata": {},
   "outputs": [],
   "source": [
    "\n",
    "# thread = client.beta.threads.create(\n",
    "#     messages=[\n",
    "#         {\n",
    "#             \"role\": \"user\",\n",
    "            \n",
    "#             \"content\": \"\"\" \n",
    "#             Please analyze the documents in the vector store. \n",
    "#             For each document, extract and return the following information about the study design and findings in JSON format. \n",
    "#             If any field cannot be found, leave it as an empty string. Here are the categories and items to locate:\n",
    "#             {\n",
    "#                 \"Study Design\": {\n",
    "#                     \"Theory_Hypotheses\": \"(main theories or hypotheses of the study)\",\n",
    "#                     \"Identification_Strategy\": \"(approach to establishing causality)\",\n",
    "#                     \"Exogeneity_Assumptions\": \"(any assumptions about exogeneity)\",\n",
    "#                     \"Control_Treatment_Definition\": \"(definitions of control and treatment groups)\",\n",
    "#                     \"Intervention_Components\": \"(specific components of the intervention)\",\n",
    "#                     \"Intervention_Timing\": \"(timing of the intervention)\"\n",
    "#                 },\n",
    "#                 \"Population\": {\n",
    "#                     \"Sample_Size\": \"(size of the sample studied)\",\n",
    "#                     \"Country_Region\": \"(location where the study was conducted)\",\n",
    "#                     \"Population_Demographics\": \"(demographics of the population studied)\"\n",
    "#                 },\n",
    "#                 \"Data & Outcomes\": {\n",
    "#                     \"Data_Source\": \"(source of data used)\",\n",
    "#                     \"Health_Economic_Outcome_Measured\": \"(outcomes measured in health or economics)\",\n",
    "#                     \"Key_Findings\": \"(main findings of the study)\",\n",
    "#                     \"Causal_Estimates\": \"(estimates of causal impact)\",\n",
    "#                     \"Statistical_Significance\": \"(significance of the results)\"\n",
    "#                 },\n",
    "#                 \"Analysis\": {\n",
    "#                     \"Robustness_Checks\": \"(any robustness checks performed)\",\n",
    "#                     \"Heterogeneity_Subgroup_Analysis\": \"(analysis by subgroups or heterogeneity)\",\n",
    "#                     \"Limitations\": \"(limitations of the study)\",\n",
    "#                     \"Endogeneity_Selection_Concerns\": \"(concerns about endogeneity or selection bias)\"\n",
    "#                 },\n",
    "#                 \"Policy & Implications\": {\n",
    "#                     \"Policy_Implications\": \"(implications of findings for policy)\"\n",
    "#                 }\n",
    "#             }\n",
    "\n",
    "#                \"\"\"\n",
    "#         }\n",
    "#     ]\n",
    "# )\n",
    "\n"
   ]
  },
  {
   "cell_type": "markdown",
   "metadata": {},
   "source": [
    "##### Step 5: Create a run and check the output"
   ]
  },
  {
   "cell_type": "code",
   "execution_count": 12,
   "metadata": {},
   "outputs": [
    {
     "name": "stdout",
     "output_type": "stream",
     "text": [
      "run_iXiKFy4IzO9xe8TYvYDlss20\n",
      "The paper provided does not contain a unique identifier within the initial displayed contents. Let's gather the information required from the paper:\n",
      "\n",
      "1. **Title of the paper**: “Placebo Tests” for the Impacts of Air Pollution on Health: The Challenge of Limited Healthcare Infrastructure[0].\n",
      "\n",
      "2. **Authors**: Bruna Guidetti, Paula Pereda, and Edson Severnini[0].\n",
      "\n",
      "3. **Publication Year**: The paper was published in 2021[0].\n",
      "\n",
      "4. **Journal Name**: The paper was published in AEA Papers and Proceedings[0].\n",
      "\n",
      "5. **DOI or URL**: The paper's DOI is https://doi.org/10.1257/pandp.20211031[4].\n",
      "\n",
      "For the further detailed questions such as theories, hypotheses, causality, sample size, etc., it appears the document has already provided information:\n",
      "\n",
      "- **Main Theories or Hypotheses**: The paper examines how a large metropolitan area in Brazil copes with increased healthcare demand due to high levels of air pollution under hospital capacity constraints. It investigates how daily pediatric hospitalizations for respiratory diseases respond to short-term exposure to PM10 in the Sao Paulo metropolitan area (SPMA) [0].\n",
      "\n",
      "- **Causal Approach**: The study uses wind speed as an instrumental variable for PM10 to explore healthcare impacts, examining pediatric hospitalizations in response to airborne particulate matter[0].\n",
      "\n",
      "- **Assumptions about Exogeneity**: The study assumes that wind speed affects PM10 concentration but does not directly affect health, serving as a source of exogenous variation[7].\n",
      "\n",
      "- **Control and Treatment Groups**: The focus is on children admitted to public hospitals in the SPMA as they are more exposed to PM10, serving as the primary group of study[4].\n",
      "\n",
      "- **Components of the Intervention**: No explicit intervention occurs in the traditional sense, as this observational study looks at natural changes in air pollution due to meteorological conditions like wind[4].\n",
      "\n",
      "- **Timing of Intervention**: The study is observational over a period from 2015 to 2017[10].\n",
      "\n",
      "- **Sample Size**: The study involves data from 85 districts and over a period of 1,095 days, as mentioned in the document[11].\n",
      "\n",
      "- **Country/Region**: The study was conducted in the Sao Paulo metropolitan area of Brazil[4].\n",
      "\n",
      "- **Demographics**: Focuses on children aged one to five years old[4].\n",
      "\n",
      "- **Source of Data**: Data was obtained from the Brazilian Hospital Data System and includes hospital admissions across the study area[10].\n",
      "\n",
      "- **Outcomes Measured**: Health outcomes such as pediatric hospitalizations for respiratory diseases[15].\n",
      "\n",
      "- **Main Findings**: Air pollution increases pediatric hospitalization for respiratory diseases, and as demand rises, elective procedures are displaced[0].\n",
      "\n",
      "- **Causal Impact Estimates**: The study finds a 10 μg/m³ increase in PM10 leads to 4.55 more hospital admissions per million children[15].\n",
      "\n",
      "- **Statistical Significance**: The results show statistically significant impacts of PM exposure on hospital admissions for elective care procedures[11].\n",
      "\n",
      "- **Robustness Checks**: Examined heterogeneity by district hospital capacity, showing stronger effects where infrastructure was weaker[11].\n",
      "\n",
      "- **Heterogeneity/subgroup analysis**: Results noted by varied hospital capacity conditions[11].\n",
      "\n",
      "- **Limitations**: Limited availability of certain health data and infrastructure constraints in developing regions[21].\n",
      "\n",
      "- **Endogeneity/Selection Bias Concerns**: Addressed through wind speed instrumental variable strategy[7].\n",
      "\n",
      "- **Policy Implications**: Suggests the need for improved healthcare infrastructure and policies to handle pollution-related demands in developing regions[21].\n",
      "[0] guidetti-et-al-2021-placebo-tests-for-the-impacts-of-air-pollution-on-health-the-challenge-of-limited-health-care.pdf\n",
      "[1] guidetti-et-al-2021-placebo-tests-for-the-impacts-of-air-pollution-on-health-the-challenge-of-limited-health-care.pdf\n",
      "[2] guidetti-et-al-2021-placebo-tests-for-the-impacts-of-air-pollution-on-health-the-challenge-of-limited-health-care.pdf\n",
      "[3] guidetti-et-al-2021-placebo-tests-for-the-impacts-of-air-pollution-on-health-the-challenge-of-limited-health-care.pdf\n",
      "[4] guidetti-et-al-2021-placebo-tests-for-the-impacts-of-air-pollution-on-health-the-challenge-of-limited-health-care.pdf\n",
      "[5] guidetti-et-al-2021-placebo-tests-for-the-impacts-of-air-pollution-on-health-the-challenge-of-limited-health-care.pdf\n",
      "[6] guidetti-et-al-2021-placebo-tests-for-the-impacts-of-air-pollution-on-health-the-challenge-of-limited-health-care.pdf\n",
      "[7] guidetti-et-al-2021-placebo-tests-for-the-impacts-of-air-pollution-on-health-the-challenge-of-limited-health-care.pdf\n",
      "[8] guidetti-et-al-2021-placebo-tests-for-the-impacts-of-air-pollution-on-health-the-challenge-of-limited-health-care.pdf\n",
      "[9] guidetti-et-al-2021-placebo-tests-for-the-impacts-of-air-pollution-on-health-the-challenge-of-limited-health-care.pdf\n",
      "[10] guidetti-et-al-2021-placebo-tests-for-the-impacts-of-air-pollution-on-health-the-challenge-of-limited-health-care.pdf\n",
      "[11] guidetti-et-al-2021-placebo-tests-for-the-impacts-of-air-pollution-on-health-the-challenge-of-limited-health-care.pdf\n",
      "[12] guidetti-et-al-2021-placebo-tests-for-the-impacts-of-air-pollution-on-health-the-challenge-of-limited-health-care.pdf\n",
      "[13] guidetti-et-al-2021-placebo-tests-for-the-impacts-of-air-pollution-on-health-the-challenge-of-limited-health-care.pdf\n",
      "[14] guidetti-et-al-2021-placebo-tests-for-the-impacts-of-air-pollution-on-health-the-challenge-of-limited-health-care.pdf\n",
      "[15] guidetti-et-al-2021-placebo-tests-for-the-impacts-of-air-pollution-on-health-the-challenge-of-limited-health-care.pdf\n",
      "[16] guidetti-et-al-2021-placebo-tests-for-the-impacts-of-air-pollution-on-health-the-challenge-of-limited-health-care.pdf\n",
      "[17] guidetti-et-al-2021-placebo-tests-for-the-impacts-of-air-pollution-on-health-the-challenge-of-limited-health-care.pdf\n",
      "[18] guidetti-et-al-2021-placebo-tests-for-the-impacts-of-air-pollution-on-health-the-challenge-of-limited-health-care.pdf\n",
      "[19] guidetti-et-al-2021-placebo-tests-for-the-impacts-of-air-pollution-on-health-the-challenge-of-limited-health-care.pdf\n",
      "[20] guidetti-et-al-2021-placebo-tests-for-the-impacts-of-air-pollution-on-health-the-challenge-of-limited-health-care.pdf\n",
      "[21] guidetti-et-al-2021-placebo-tests-for-the-impacts-of-air-pollution-on-health-the-challenge-of-limited-health-care.pdf\n",
      "[22] guidetti-et-al-2021-placebo-tests-for-the-impacts-of-air-pollution-on-health-the-challenge-of-limited-health-care.pdf\n",
      "[23] guidetti-et-al-2021-placebo-tests-for-the-impacts-of-air-pollution-on-health-the-challenge-of-limited-health-care.pdf\n"
     ]
    }
   ],
   "source": [
    "\n",
    "run = client.beta.threads.runs.create_and_poll(\n",
    "    thread_id=thread.id, assistant_id=assistant.id\n",
    ")\n",
    "print(run.id)\n",
    "messages = list(client.beta.threads.messages.list(thread_id=thread.id, run_id=run.id))\n",
    "\n",
    "message_content = messages[0].content[0].text\n",
    "annotations = message_content.annotations\n",
    "citations = []\n",
    "for index, annotation in enumerate(annotations):\n",
    "    message_content.value = message_content.value.replace(annotation.text, f\"[{index}]\")\n",
    "    if file_citation := getattr(annotation, \"file_citation\", None):\n",
    "        cited_file = client.files.retrieve(file_citation.file_id)\n",
    "        citations.append(f\"[{index}] {cited_file.filename}\")\n",
    "\n",
    "print(message_content.value)\n",
    "print(\"\\n\".join(citations))"
   ]
  },
  {
   "cell_type": "code",
   "execution_count": null,
   "metadata": {},
   "outputs": [],
   "source": [
    "print(run.status)"
   ]
  },
  {
   "cell_type": "code",
   "execution_count": 13,
   "metadata": {},
   "outputs": [
    {
     "name": "stdout",
     "output_type": "stream",
     "text": [
      "[Message(id='msg_WWyfViv5QM6vAWndO9pR0v34', assistant_id='asst_EEaiZaR394wa9UIPrXAX6gr0', attachments=[], completed_at=None, content=[TextContentBlock(text=Text(annotations=[FileCitationAnnotation(end_index=411, file_citation=FileCitation(file_id='file-C3yj2z2Uk1cXgXfpIOpzwE52'), start_index=287, text='【28:0†guidetti-et-al-2021-placebo-tests-for-the-impacts-of-air-pollution-on-health-the-challenge-of-limited-health-care.pdf】', type='file_citation'), FileCitationAnnotation(end_index=603, file_citation=FileCitation(file_id='file-C3yj2z2Uk1cXgXfpIOpzwE52'), start_index=479, text='【28:0†guidetti-et-al-2021-placebo-tests-for-the-impacts-of-air-pollution-on-health-the-challenge-of-limited-health-care.pdf】', type='file_citation'), FileCitationAnnotation(end_index=786, file_citation=FileCitation(file_id='file-C3yj2z2Uk1cXgXfpIOpzwE52'), start_index=662, text='【28:0†guidetti-et-al-2021-placebo-tests-for-the-impacts-of-air-pollution-on-health-the-challenge-of-limited-health-care.pdf】', type='file_citation'), FileCitationAnnotation(end_index=987, file_citation=FileCitation(file_id='file-C3yj2z2Uk1cXgXfpIOpzwE52'), start_index=863, text='【28:0†guidetti-et-al-2021-placebo-tests-for-the-impacts-of-air-pollution-on-health-the-challenge-of-limited-health-care.pdf】', type='file_citation'), FileCitationAnnotation(end_index=1191, file_citation=FileCitation(file_id='file-C3yj2z2Uk1cXgXfpIOpzwE52'), start_index=1066, text='【28:11†guidetti-et-al-2021-placebo-tests-for-the-impacts-of-air-pollution-on-health-the-challenge-of-limited-health-care.pdf】', type='file_citation'), FileCitationAnnotation(end_index=1837, file_citation=FileCitation(file_id='file-C3yj2z2Uk1cXgXfpIOpzwE52'), start_index=1713, text='【28:0†guidetti-et-al-2021-placebo-tests-for-the-impacts-of-air-pollution-on-health-the-challenge-of-limited-health-care.pdf】', type='file_citation'), FileCitationAnnotation(end_index=2160, file_citation=FileCitation(file_id='file-C3yj2z2Uk1cXgXfpIOpzwE52'), start_index=2036, text='【28:0†guidetti-et-al-2021-placebo-tests-for-the-impacts-of-air-pollution-on-health-the-challenge-of-limited-health-care.pdf】', type='file_citation'), FileCitationAnnotation(end_index=2463, file_citation=FileCitation(file_id='file-C3yj2z2Uk1cXgXfpIOpzwE52'), start_index=2339, text='【28:9†guidetti-et-al-2021-placebo-tests-for-the-impacts-of-air-pollution-on-health-the-challenge-of-limited-health-care.pdf】', type='file_citation'), FileCitationAnnotation(end_index=2764, file_citation=FileCitation(file_id='file-C3yj2z2Uk1cXgXfpIOpzwE52'), start_index=2639, text='【28:11†guidetti-et-al-2021-placebo-tests-for-the-impacts-of-air-pollution-on-health-the-challenge-of-limited-health-care.pdf】', type='file_citation'), FileCitationAnnotation(end_index=3100, file_citation=FileCitation(file_id='file-C3yj2z2Uk1cXgXfpIOpzwE52'), start_index=2975, text='【28:11†guidetti-et-al-2021-placebo-tests-for-the-impacts-of-air-pollution-on-health-the-challenge-of-limited-health-care.pdf】', type='file_citation'), FileCitationAnnotation(end_index=3315, file_citation=FileCitation(file_id='file-C3yj2z2Uk1cXgXfpIOpzwE52'), start_index=3191, text='【28:4†guidetti-et-al-2021-placebo-tests-for-the-impacts-of-air-pollution-on-health-the-challenge-of-limited-health-care.pdf】', type='file_citation'), FileCitationAnnotation(end_index=3564, file_citation=FileCitation(file_id='file-C3yj2z2Uk1cXgXfpIOpzwE52'), start_index=3440, text='【28:8†guidetti-et-al-2021-placebo-tests-for-the-impacts-of-air-pollution-on-health-the-challenge-of-limited-health-care.pdf】', type='file_citation'), FileCitationAnnotation(end_index=3782, file_citation=FileCitation(file_id='file-C3yj2z2Uk1cXgXfpIOpzwE52'), start_index=3657, text='【28:11†guidetti-et-al-2021-placebo-tests-for-the-impacts-of-air-pollution-on-health-the-challenge-of-limited-health-care.pdf】', type='file_citation'), FileCitationAnnotation(end_index=3976, file_citation=FileCitation(file_id='file-C3yj2z2Uk1cXgXfpIOpzwE52'), start_index=3851, text='【28:11†guidetti-et-al-2021-placebo-tests-for-the-impacts-of-air-pollution-on-health-the-challenge-of-limited-health-care.pdf】', type='file_citation'), FileCitationAnnotation(end_index=4237, file_citation=FileCitation(file_id='file-C3yj2z2Uk1cXgXfpIOpzwE52'), start_index=4113, text='【28:4†guidetti-et-al-2021-placebo-tests-for-the-impacts-of-air-pollution-on-health-the-challenge-of-limited-health-care.pdf】', type='file_citation'), FileCitationAnnotation(end_index=4464, file_citation=FileCitation(file_id='file-C3yj2z2Uk1cXgXfpIOpzwE52'), start_index=4340, text='【28:2†guidetti-et-al-2021-placebo-tests-for-the-impacts-of-air-pollution-on-health-the-challenge-of-limited-health-care.pdf】', type='file_citation'), FileCitationAnnotation(end_index=4742, file_citation=FileCitation(file_id='file-C3yj2z2Uk1cXgXfpIOpzwE52'), start_index=4618, text='【28:0†guidetti-et-al-2021-placebo-tests-for-the-impacts-of-air-pollution-on-health-the-challenge-of-limited-health-care.pdf】', type='file_citation'), FileCitationAnnotation(end_index=5003, file_citation=FileCitation(file_id='file-C3yj2z2Uk1cXgXfpIOpzwE52'), start_index=4879, text='【28:2†guidetti-et-al-2021-placebo-tests-for-the-impacts-of-air-pollution-on-health-the-challenge-of-limited-health-care.pdf】', type='file_citation'), FileCitationAnnotation(end_index=5279, file_citation=FileCitation(file_id='file-C3yj2z2Uk1cXgXfpIOpzwE52'), start_index=5155, text='【28:8†guidetti-et-al-2021-placebo-tests-for-the-impacts-of-air-pollution-on-health-the-challenge-of-limited-health-care.pdf】', type='file_citation'), FileCitationAnnotation(end_index=5541, file_citation=FileCitation(file_id='file-C3yj2z2Uk1cXgXfpIOpzwE52'), start_index=5417, text='【28:8†guidetti-et-al-2021-placebo-tests-for-the-impacts-of-air-pollution-on-health-the-challenge-of-limited-health-care.pdf】', type='file_citation'), FileCitationAnnotation(end_index=5759, file_citation=FileCitation(file_id='file-C3yj2z2Uk1cXgXfpIOpzwE52'), start_index=5635, text='【28:8†guidetti-et-al-2021-placebo-tests-for-the-impacts-of-air-pollution-on-health-the-challenge-of-limited-health-care.pdf】', type='file_citation'), FileCitationAnnotation(end_index=6001, file_citation=FileCitation(file_id='file-C3yj2z2Uk1cXgXfpIOpzwE52'), start_index=5877, text='【28:5†guidetti-et-al-2021-placebo-tests-for-the-impacts-of-air-pollution-on-health-the-challenge-of-limited-health-care.pdf】', type='file_citation'), FileCitationAnnotation(end_index=6230, file_citation=FileCitation(file_id='file-C3yj2z2Uk1cXgXfpIOpzwE52'), start_index=6106, text='【28:9†guidetti-et-al-2021-placebo-tests-for-the-impacts-of-air-pollution-on-health-the-challenge-of-limited-health-care.pdf】', type='file_citation'), FileCitationAnnotation(end_index=6511, file_citation=FileCitation(file_id='file-C3yj2z2Uk1cXgXfpIOpzwE52'), start_index=6387, text='【28:5†guidetti-et-al-2021-placebo-tests-for-the-impacts-of-air-pollution-on-health-the-challenge-of-limited-health-care.pdf】', type='file_citation')], value=\"The paper provided does not contain a unique identifier within the initial displayed contents. Let's gather the information required from the paper:\\n\\n1. **Title of the paper**: “Placebo Tests” for the Impacts of Air Pollution on Health: The Challenge of Limited Healthcare Infrastructure[0].\\n\\n2. **Authors**: Bruna Guidetti, Paula Pereda, and Edson Severnini[0].\\n\\n3. **Publication Year**: The paper was published in 2021[0].\\n\\n4. **Journal Name**: The paper was published in AEA Papers and Proceedings[0].\\n\\n5. **DOI or URL**: The paper's DOI is https://doi.org/10.1257/pandp.20211031[4].\\n\\nFor the further detailed questions such as theories, hypotheses, causality, sample size, etc., it appears the document has already provided information:\\n\\n- **Main Theories or Hypotheses**: The paper examines how a large metropolitan area in Brazil copes with increased healthcare demand due to high levels of air pollution under hospital capacity constraints. It investigates how daily pediatric hospitalizations for respiratory diseases respond to short-term exposure to PM10 in the Sao Paulo metropolitan area (SPMA) [0].\\n\\n- **Causal Approach**: The study uses wind speed as an instrumental variable for PM10 to explore healthcare impacts, examining pediatric hospitalizations in response to airborne particulate matter[0].\\n\\n- **Assumptions about Exogeneity**: The study assumes that wind speed affects PM10 concentration but does not directly affect health, serving as a source of exogenous variation[7].\\n\\n- **Control and Treatment Groups**: The focus is on children admitted to public hospitals in the SPMA as they are more exposed to PM10, serving as the primary group of study[4].\\n\\n- **Components of the Intervention**: No explicit intervention occurs in the traditional sense, as this observational study looks at natural changes in air pollution due to meteorological conditions like wind[4].\\n\\n- **Timing of Intervention**: The study is observational over a period from 2015 to 2017[10].\\n\\n- **Sample Size**: The study involves data from 85 districts and over a period of 1,095 days, as mentioned in the document[11].\\n\\n- **Country/Region**: The study was conducted in the Sao Paulo metropolitan area of Brazil[4].\\n\\n- **Demographics**: Focuses on children aged one to five years old[4].\\n\\n- **Source of Data**: Data was obtained from the Brazilian Hospital Data System and includes hospital admissions across the study area[10].\\n\\n- **Outcomes Measured**: Health outcomes such as pediatric hospitalizations for respiratory diseases[15].\\n\\n- **Main Findings**: Air pollution increases pediatric hospitalization for respiratory diseases, and as demand rises, elective procedures are displaced[0].\\n\\n- **Causal Impact Estimates**: The study finds a 10 μg/m³ increase in PM10 leads to 4.55 more hospital admissions per million children[15].\\n\\n- **Statistical Significance**: The results show statistically significant impacts of PM exposure on hospital admissions for elective care procedures[11].\\n\\n- **Robustness Checks**: Examined heterogeneity by district hospital capacity, showing stronger effects where infrastructure was weaker[11].\\n\\n- **Heterogeneity/subgroup analysis**: Results noted by varied hospital capacity conditions[11].\\n\\n- **Limitations**: Limited availability of certain health data and infrastructure constraints in developing regions[21].\\n\\n- **Endogeneity/Selection Bias Concerns**: Addressed through wind speed instrumental variable strategy[7].\\n\\n- **Policy Implications**: Suggests the need for improved healthcare infrastructure and policies to handle pollution-related demands in developing regions[21].\"), type='text')], created_at=1731595809, incomplete_at=None, incomplete_details=None, metadata={}, object='thread.message', role='assistant', run_id='run_iXiKFy4IzO9xe8TYvYDlss20', status=None, thread_id='thread_ZMflxCUp25hrnT65lCyh86C4')]\n"
     ]
    }
   ],
   "source": [
    "print(messages)"
   ]
  },
  {
   "cell_type": "code",
   "execution_count": null,
   "metadata": {},
   "outputs": [],
   "source": [
    "print(message_content.value)\n",
    "print(\"\\n\".join(citations))"
   ]
  }
 ],
 "metadata": {
  "kernelspec": {
   "display_name": "Python 3",
   "language": "python",
   "name": "python3"
  },
  "language_info": {
   "codemirror_mode": {
    "name": "ipython",
    "version": 3
   },
   "file_extension": ".py",
   "mimetype": "text/x-python",
   "name": "python",
   "nbconvert_exporter": "python",
   "pygments_lexer": "ipython3",
   "version": "3.11.8"
  }
 },
 "nbformat": 4,
 "nbformat_minor": 2
}
