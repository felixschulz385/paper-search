{
 "cells": [
  {
   "cell_type": "code",
   "execution_count": 1,
   "metadata": {},
   "outputs": [],
   "source": [
    "from openai import OpenAI\n",
    "from dotenv import load_dotenv\n",
    "import os\n",
    "from pathlib import Path\n",
    "\n",
    "\n",
    "env_path = \"../../keys.env\"\n",
    "\n",
    "load_dotenv(dotenv_path=env_path)\n",
    "api_key = os.getenv(\"API_KEY\")\n",
    "project = os.getenv(\"PROJECT\")\n",
    "organization = os.getenv(\"ORGANIZATION\")"
   ]
  },
  {
   "cell_type": "code",
   "execution_count": 2,
   "metadata": {},
   "outputs": [],
   "source": [
    "\n",
    "client = OpenAI(\n",
    " organization=organization,\n",
    " project=project,\n",
    " api_key=api_key \n",
    ")"
   ]
  },
  {
   "cell_type": "code",
   "execution_count": 45,
   "metadata": {},
   "outputs": [
    {
     "name": "stdout",
     "output_type": "stream",
     "text": [
      "ID of MINI\n",
      "asst_goyXy5YArE5F3Z2OX3WhCfY4\n"
     ]
    }
   ],
   "source": [
    "assistant = client.beta.assistants.create(\n",
    "  name=\"Health Economics Research Paper Analyst - MINI\",\n",
    "  instructions=\"You are an scientific researcher in the area of health economics. Use your knowledge base to help answer questions about the health economics research papers.\",\n",
    "  model=\"gpt-4o-mini\",\n",
    "  tools=[{\"type\": \"file_search\"}],\n",
    ")\n",
    "print(\"ID of MINI\")\n",
    "print(assistant.id)"
   ]
  },
  {
   "cell_type": "code",
   "execution_count": 3,
   "metadata": {},
   "outputs": [],
   "source": [
    "assistant = client.beta.assistants.retrieve(\"asst_goyXy5YArE5F3Z2OX3WhCfY4\")\n"
   ]
  },
  {
   "cell_type": "markdown",
   "metadata": {},
   "source": [
    "##### Step 2: Upload files and add them to a Vector Store\n"
   ]
  },
  {
   "cell_type": "code",
   "execution_count": 4,
   "metadata": {},
   "outputs": [],
   "source": [
    "dir_str_path = \"test_pdfs/\"\n",
    "dir_path = Path(dir_str_path)\n",
    "\n",
    "file_paths = []\n",
    "file_names = []\n",
    "for pdf_file in dir_path.glob(\"*.pdf\"):\n",
    "    file_paths.append(dir_str_path + pdf_file.name)\n",
    "    file_names.append(pdf_file.name)\n",
    "\n",
    "\n",
    "file_streams = [open(path, \"rb\") for path in file_paths]\n"
   ]
  },
  {
   "cell_type": "markdown",
   "metadata": {},
   "source": [
    "##### Step 4: Create a thread"
   ]
  },
  {
   "cell_type": "code",
   "execution_count": 5,
   "metadata": {},
   "outputs": [],
   "source": [
    "\n",
    "queries = {\n",
    "    \"Paper_ID\": \"Extract the unique identifier for this paper, if available. If not leave empty.\",\n",
    "    \"Title\": \"Please provide the title of the paper.\",\n",
    "    \"Authors\": \"List the authors of the paper.\",\n",
    "    \"Year_of_Publication\": \"What year was this paper published?\",\n",
    "    \"Journal_Name\": \"Provide the name of the journal where this paper was published.\",\n",
    "    \"DOI_URL\": \"Extract the DOI or URL for this paper.\",\n",
    "    \"Theory_Hypotheses\": \"Please extract the main theories or hypotheses of the study.\",\n",
    "    \"Identification_Strategy\": \"Please explain the approach to establishing causality used in this study.\",\n",
    "    \"Exogeneity_Assumptions\": \"List any assumptions about exogeneity made in this study.\",\n",
    "    \"Control_Treatment_Definition\": \"Define the control and treatment groups as described in the study.\",\n",
    "    \"Intervention_Components\": \"List the specific components of the intervention.\",\n",
    "    \"Intervention_Timing\": \"Describe the timing of the intervention.\",\n",
    "    \"Sample_Size\": \"Provide the size of the sample studied.\",\n",
    "    \"Country_Region\": \"Specify the country or region where the study was conducted.\",\n",
    "    \"Population_Demographics\": \"Summarize the demographics of the population studied.\",\n",
    "    \"Data_Source\": \"What is the source of the data used in this study?\",\n",
    "    \"Health_Economic_Outcome_Measured\": \"List the health or economic outcomes measured in this study.\",\n",
    "    \"Key_Findings\": \"Summarize the main findings of the study.\",\n",
    "    \"Causal_Estimates\": \"Provide estimates of causal impact found in the study.\",\n",
    "    \"Statistical_Significance\": \"Comment on the statistical significance of the results.\",\n",
    "    \"Robustness_Checks\": \"Describe any robustness checks performed.\",\n",
    "    \"Heterogeneity_Subgroup_Analysis\": \"Explain if any heterogeneity or subgroup analysis was conducted.\",\n",
    "    \"Limitations\": \"List any limitations of the study.\",\n",
    "    \"Endogeneity_Selection_Concerns\": \"Describe concerns about endogeneity or selection bias, if any.\",\n",
    "    \"Policy_Implications\": \"What are the policy implications of the study’s findings?\",\n",
    "    \"Intervention_Components\": \"List the specific components of the intervention.\",\n",
    "    \"Intervention_Takeup\": \"Report whether and how the study discusses take-up and noncompliance in the treatment group.\",\n",
    "    \"Intervention_Timing\": \"Describe the timing of the intervention.\"\n",
    "}\n",
    "\n"
   ]
  },
  {
   "cell_type": "code",
   "execution_count": 6,
   "metadata": {},
   "outputs": [],
   "source": [
    "file_id_list = [] #only need this for deletion purposes\n",
    "vector_store_id_list = []\n",
    "thread_id_list = []\n",
    "\n",
    "\n",
    "vector_store_list = []\n",
    "thread_list = []\n",
    "\n",
    "\n",
    "\n",
    "all_responses = {}\n",
    "\n"
   ]
  },
  {
   "cell_type": "code",
   "execution_count": 8,
   "metadata": {},
   "outputs": [
    {
     "name": "stdout",
     "output_type": "stream",
     "text": [
      "Processed vector store and file batch for: acemoglu-2023-distorted-innovation-does-the-market-get-the-direction-of-technology-right.pdf\n",
      "Processed vector store and file batch for: guidetti-et-al-2021-placebo-tests-for-the-impacts-of-air-pollution-on-health-the-challenge-of-limited-health-care.pdf\n"
     ]
    }
   ],
   "source": [
    "import time\n",
    "for file_stream in file_streams:\n",
    "    name = file_stream.name.split(\"/\")[1]\n",
    "    \n",
    "    file = client.files.create(\n",
    "        file = file_stream, \n",
    "        purpose = \"assistants\"\n",
    "    )\n",
    "    file_id_list.append(file.id)\n",
    "\n",
    "    vector_store = client.beta.vector_stores.create(\n",
    "        name=\"Health Economics Research Papers V0.2\", \n",
    "        expires_after={\"anchor\": \"last_active_at\", \"days\": 1},\n",
    "        file_ids = [file.id]\n",
    "    )\n",
    "\n",
    "    vector_store_id_list.append(vector_store.id)\n",
    "  \n",
    "    \n",
    "    print(f\"Processed vector store and file batch for: {name}\")\n"
   ]
  },
  {
   "cell_type": "code",
   "execution_count": 9,
   "metadata": {},
   "outputs": [],
   "source": [
    "import time\n",
    "for vec_id in vector_store_id_list:\n",
    "    tmp = client.beta.vector_stores.retrieve(\n",
    "      vector_store_id= vec_id\n",
    "    )\n",
    "    while(tmp.status != \"completed\"):\n",
    "        time.sleep(2)\n",
    "    vector_store_list.append(tmp)"
   ]
  },
  {
   "cell_type": "code",
   "execution_count": 10,
   "metadata": {},
   "outputs": [
    {
     "name": "stdout",
     "output_type": "stream",
     "text": [
      "Updated assistant and created thread for vector store ID: vs_yRNOq78bK4JdjtguLP65ULzD\n",
      "Updated assistant and created thread for vector store ID: vs_MXHakFVVtBBRctRcPGk1VNtF\n"
     ]
    }
   ],
   "source": [
    "for vector_store in vector_store_list:    \n",
    "    thread = client.beta.threads.create(tool_resources={\"file_search\": {\"vector_store_ids\": [vector_store.id]}})\n",
    "    thread_id_list.append(thread.id)\n",
    "    \n",
    "    print(f\"Updated assistant and created thread for vector store ID: {vector_store.id}\")\n"
   ]
  },
  {
   "cell_type": "code",
   "execution_count": 11,
   "metadata": {},
   "outputs": [],
   "source": [
    "for thr_id in thread_id_list:\n",
    "    tmp =  client.beta.threads.retrieve(thr_id)\n",
    "    thread_list.append(tmp)"
   ]
  },
  {
   "cell_type": "code",
   "execution_count": 13,
   "metadata": {},
   "outputs": [
    {
     "name": "stdout",
     "output_type": "stream",
     "text": [
      "Executing run for thread ID: thread_oxGBoZl876glq3RB8wldHNCN\n",
      "Executing run for thread ID: thread_S8KGnnTDmCuifFGHl5SPneZK\n"
     ]
    }
   ],
   "source": [
    "import time\n",
    "run_list = []\n",
    "\n",
    "\n",
    "for thread_id in thread_id_list:\n",
    "    response_per_file = {}\n",
    "    \n",
    "    for heading, query in queries.items():\n",
    "        response = client.beta.threads.messages.create(\n",
    "            role=\"user\",\n",
    "            thread_id=thread_id,\n",
    "            content=query\n",
    "        )\n",
    "    \n",
    "    print(f\"Executing run for thread ID: {thread_id}\")\n",
    "    run = client.beta.threads.runs.create_and_poll(\n",
    "        thread_id=thread_id, assistant_id=assistant.id\n",
    "    )\n",
    "    while(run.status != \"completed\"):\n",
    "        time.sleep(2)  \n",
    "        pass\n",
    "    \n",
    "    run_list.append(run)\n",
    "\n"
   ]
  },
  {
   "cell_type": "code",
   "execution_count": 15,
   "metadata": {},
   "outputs": [
    {
     "name": "stdout",
     "output_type": "stream",
     "text": [
      "Run(id='run_cyS3JiTezfrEee6c3EzYEClk', assistant_id='asst_goyXy5YArE5F3Z2OX3WhCfY4', cancelled_at=None, completed_at=1732209823, created_at=1732209805, expires_at=None, failed_at=None, incomplete_details=None, instructions='You are an scientific researcher in the area of health economics. Use your knowledge base to help answer questions about the health economics research papers.', last_error=None, max_completion_tokens=None, max_prompt_tokens=None, metadata={}, model='gpt-4o-mini', object='thread.run', parallel_tool_calls=True, required_action=None, response_format='auto', started_at=1732209807, status='completed', thread_id='thread_oxGBoZl876glq3RB8wldHNCN', tool_choice='auto', tools=[FileSearchTool(type='file_search', file_search=FileSearch(max_num_results=None, ranking_options=FileSearchRankingOptions(score_threshold=0.0, ranker='default_2024_08_21')))], truncation_strategy=TruncationStrategy(type='auto', last_messages=None), usage=Usage(completion_tokens=1120, prompt_tokens=17700, total_tokens=18820, prompt_token_details={'cached_tokens': 0}), temperature=1.0, top_p=1.0, tool_resources={})\n",
      "Run(id='run_VDv36ULzZ4BUXCRuGKPkWW3P', assistant_id='asst_goyXy5YArE5F3Z2OX3WhCfY4', cancelled_at=None, completed_at=1732209859, created_at=1732209841, expires_at=None, failed_at=None, incomplete_details=None, instructions='You are an scientific researcher in the area of health economics. Use your knowledge base to help answer questions about the health economics research papers.', last_error=None, max_completion_tokens=None, max_prompt_tokens=None, metadata={}, model='gpt-4o-mini', object='thread.run', parallel_tool_calls=True, required_action=None, response_format='auto', started_at=1732209841, status='completed', thread_id='thread_S8KGnnTDmCuifFGHl5SPneZK', tool_choice='auto', tools=[FileSearchTool(type='file_search', file_search=FileSearch(max_num_results=None, ranking_options=FileSearchRankingOptions(score_threshold=0.0, ranker='default_2024_08_21')))], truncation_strategy=TruncationStrategy(type='auto', last_messages=None), usage=Usage(completion_tokens=1233, prompt_tokens=12068, total_tokens=13301, prompt_token_details={'cached_tokens': 0}), temperature=1.0, top_p=1.0, tool_resources={})\n"
     ]
    }
   ],
   "source": [
    "#print(run_list)\n",
    "for run in run_list:\n",
    "    print(run)"
   ]
  },
  {
   "cell_type": "code",
   "execution_count": 17,
   "metadata": {},
   "outputs": [
    {
     "name": "stdout",
     "output_type": "stream",
     "text": [
      "Processed responses and citations for thread ID: thread_oxGBoZl876glq3RB8wldHNCN\n",
      "Processed responses and citations for thread ID: thread_S8KGnnTDmCuifFGHl5SPneZK\n"
     ]
    }
   ],
   "source": [
    "for thread_id, file_stream in zip(thread_id_list, file_streams):\n",
    "    name = file_stream.name.split(\"/\")[1]\n",
    "    messages = list(client.beta.threads.messages.list(thread_id=thread_id))\n",
    "    if(len(messages) != 0):\n",
    "        message_content = messages[0].content[0].text\n",
    "        annotations = message_content.annotations\n",
    "        citations = []\n",
    "\n",
    "        all_responses[name] = message_content.value\n",
    "        print(f\"Processed responses and citations for thread ID: {thread_id}\")\n",
    "    else:\n",
    "        print(f\"Empty list returned for process in: {thread_id}\")\n"
   ]
  },
  {
   "cell_type": "code",
   "execution_count": 18,
   "metadata": {},
   "outputs": [],
   "source": [
    "import json\n",
    "output_file = 'output_file.json'\n",
    "with open(output_file, \"w\", encoding=\"utf-8\") as f:\n",
    "    json.dump(all_responses, f, indent=4)"
   ]
  },
  {
   "cell_type": "code",
   "execution_count": 19,
   "metadata": {},
   "outputs": [
    {
     "name": "stdout",
     "output_type": "stream",
     "text": [
      "output written to output.txt\n"
     ]
    }
   ],
   "source": [
    "import json \n",
    "\n",
    "input_file = \"output_file.json\"\n",
    "output_file = \"output.txt\"\n",
    "\n",
    "with open(input_file, \"r\", encoding=\"utf-8\") as file:\n",
    "    data = json.load(file)\n",
    "\n",
    "with open(output_file, \"w\", encoding=\"utf-8\") as file:\n",
    "    for key, value in data.items():\n",
    "        file.write(f\"File: {key}\\n\")\n",
    "        file.write(\"=\" * (6 + len(key)) + \"\\n\\n\")  \n",
    "\n",
    "        formatted_value = value.replace(\"\\\\n\", \"\\n\").replace(\"\\\\u2020\", \"\").replace(\"\\\\u3010\", \"[\").replace(\"\\\\u3011\", \"]\")\n",
    "        for line in formatted_value.split(\"\\n\"):\n",
    "            if line.strip():  \n",
    "                file.write(f\"{line.strip()}\\n\\n\") \n",
    "\n",
    "print(f\"output written to {output_file}\")\n"
   ]
  },
  {
   "cell_type": "code",
   "execution_count": 20,
   "metadata": {},
   "outputs": [],
   "source": [
    "for file_id, vec_id, thr_id in zip(file_id_list, vector_store_id_list, thread_id_list):\n",
    "    status_file = client.files.delete(file_id=file_id)\n",
    "    status_vec = client.beta.vector_stores.delete(vector_store_id=vec_id)\n",
    "    status_thr = client.beta.threads.delete(thread_id=thr_id)\n",
    "    \n",
    "\n"
   ]
  }
 ],
 "metadata": {
  "kernelspec": {
   "display_name": "Python 3",
   "language": "python",
   "name": "python3"
  },
  "language_info": {
   "codemirror_mode": {
    "name": "ipython",
    "version": 3
   },
   "file_extension": ".py",
   "mimetype": "text/x-python",
   "name": "python",
   "nbconvert_exporter": "python",
   "pygments_lexer": "ipython3",
   "version": "3.11.8"
  }
 },
 "nbformat": 4,
 "nbformat_minor": 2
}
