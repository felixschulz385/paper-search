{
 "cells": [
  {
   "cell_type": "code",
   "execution_count": 56,
   "metadata": {},
   "outputs": [],
   "source": [
    "from openai import OpenAI\n",
    "from dotenv import load_dotenv\n",
    "import os\n",
    "from pathlib import Path\n",
    "\n",
    "\n",
    "env_path = \"../../keys.env\"\n",
    "\n",
    "load_dotenv(dotenv_path=env_path)\n",
    "api_key = os.getenv(\"API_KEY\")\n",
    "project = os.getenv(\"PROJECT\")\n",
    "organization = os.getenv(\"ORGANIZATION\")"
   ]
  },
  {
   "cell_type": "code",
   "execution_count": 57,
   "metadata": {},
   "outputs": [],
   "source": [
    "\n",
    "client = OpenAI(\n",
    " organization=organization,\n",
    " project=project,\n",
    " api_key=api_key \n",
    ")"
   ]
  },
  {
   "cell_type": "code",
   "execution_count": 58,
   "metadata": {},
   "outputs": [
    {
     "name": "stdout",
     "output_type": "stream",
     "text": [
      "Assistant ID: asst_EEaiZaR394wa9UIPrXAX6gr0\n",
      "Name: Research Paper Analyst\n",
      "Model: gpt-4o\n",
      "Tools: [FileSearchTool(type='file_search', file_search=FileSearch(max_num_results=None, ranking_options=FileSearchRankingOptions(score_threshold=0.0, ranker='default_2024_08_21')))]\n",
      "------------------------------\n"
     ]
    }
   ],
   "source": [
    "assistants = client.beta.assistants.list()\n",
    "for assistant in assistants.data:\n",
    "    print(f\"Assistant ID: {assistant.id}\")\n",
    "    print(f\"Name: {assistant.name}\")\n",
    "    print(f\"Model: {assistant.model}\")\n",
    "    print(f\"Tools: {assistant.tools}\")\n",
    "    print(\"-\" * 30)"
   ]
  },
  {
   "cell_type": "code",
   "execution_count": 59,
   "metadata": {},
   "outputs": [],
   "source": [
    "assistant = client.beta.assistants.retrieve(\"asst_EEaiZaR394wa9UIPrXAX6gr0\")\n"
   ]
  },
  {
   "cell_type": "code",
   "execution_count": 60,
   "metadata": {},
   "outputs": [
    {
     "name": "stdout",
     "output_type": "stream",
     "text": [
      "asst_EEaiZaR394wa9UIPrXAX6gr0\n"
     ]
    }
   ],
   "source": [
    "assistant_id = assistant.id\n",
    "print(assistant_id)"
   ]
  },
  {
   "cell_type": "markdown",
   "metadata": {},
   "source": [
    "##### Step 2: Upload files and add them to a Vector Store\n"
   ]
  },
  {
   "cell_type": "code",
   "execution_count": 5,
   "metadata": {},
   "outputs": [],
   "source": [
    "\n",
    "vector_store = client.beta.vector_stores.create(name=\"Health Economics Research Papers V0.2\", expires_after={\"anchor\": \"last_active_at\", \"days\": 1})\n"
   ]
  },
  {
   "cell_type": "code",
   "execution_count": null,
   "metadata": {},
   "outputs": [
    {
     "data": {
      "text/plain": [
       "<generator object Path.glob at 0x00000270A6CC5140>"
      ]
     },
     "execution_count": 92,
     "metadata": {},
     "output_type": "execute_result"
    }
   ],
   "source": []
  },
  {
   "cell_type": "code",
   "execution_count": 61,
   "metadata": {},
   "outputs": [],
   "source": [
    "\n",
    "dir_str_path = \"test_pdfs/\"\n",
    "dir_path = Path(dir_str_path)\n",
    "\n",
    "file_paths = []\n",
    "file_names = []\n",
    "for pdf_file in dir_path.glob(\"*.pdf\"):\n",
    "    file_paths.append(dir_str_path + pdf_file.name)\n",
    "    file_names.append(pdf_file.name)\n",
    "\n",
    "\n",
    "file_streams = [open(path, \"rb\") for path in file_paths]\n"
   ]
  },
  {
   "cell_type": "code",
   "execution_count": 94,
   "metadata": {},
   "outputs": [
    {
     "data": {
      "text/plain": [
       "[WindowsPath('test_pdfs/acemoglu-2023-distorted-innovation-does-the-market-get-the-direction-of-technology-right.pdf'),\n",
       " WindowsPath('test_pdfs/guidetti-et-al-2021-placebo-tests-for-the-impacts-of-air-pollution-on-health-the-challenge-of-limited-health-care.pdf')]"
      ]
     },
     "execution_count": 94,
     "metadata": {},
     "output_type": "execute_result"
    }
   ],
   "source": [
    "list(dir_path.glob(\"*.pdf\"))"
   ]
  },
  {
   "cell_type": "code",
   "execution_count": 62,
   "metadata": {},
   "outputs": [
    {
     "name": "stdout",
     "output_type": "stream",
     "text": [
      "[<_io.BufferedReader name='test_pdfs/acemoglu-2023-distorted-innovation-does-the-market-get-the-direction-of-technology-right.pdf'>, <_io.BufferedReader name='test_pdfs/guidetti-et-al-2021-placebo-tests-for-the-impacts-of-air-pollution-on-health-the-challenge-of-limited-health-care.pdf'>]\n"
     ]
    }
   ],
   "source": [
    "print(file_streams)\n"
   ]
  },
  {
   "cell_type": "code",
   "execution_count": 7,
   "metadata": {},
   "outputs": [],
   "source": [
    "file_batch = client.beta.vector_stores.file_batches.upload_and_poll(\n",
    "  vector_store_id=vector_store.id, files=file_streams\n",
    ")"
   ]
  },
  {
   "cell_type": "code",
   "execution_count": 8,
   "metadata": {},
   "outputs": [
    {
     "name": "stdout",
     "output_type": "stream",
     "text": [
      "completed\n"
     ]
    }
   ],
   "source": [
    "print(file_batch.status)\n",
    "# wait till finish!!!!!!"
   ]
  },
  {
   "cell_type": "markdown",
   "metadata": {},
   "source": [
    "##### Step 3: Update the assistant to use the new Vector Store"
   ]
  },
  {
   "cell_type": "code",
   "execution_count": 11,
   "metadata": {},
   "outputs": [],
   "source": [
    "assistant = client.beta.assistants.update(\n",
    "  assistant_id=assistant_id,\n",
    "  tool_resources={\"file_search\": {\"vector_store_ids\": [vector_store.id]}},\n",
    ")"
   ]
  },
  {
   "cell_type": "markdown",
   "metadata": {},
   "source": [
    "##### Step 4: Create a thread"
   ]
  },
  {
   "cell_type": "code",
   "execution_count": 97,
   "metadata": {},
   "outputs": [],
   "source": [
    "\n",
    "queries = {\n",
    "    \"Paper_ID\": \"Extract the unique identifier for this paper, if available. If not leave empty.\",\n",
    "    \"Title\": \"Please provide the title of the paper.\",\n",
    "    \"Authors\": \"List the authors of the paper.\",\n",
    "    \"Year_of_Publication\": \"What year was this paper published?\",\n",
    "    \"Journal_Name\": \"Provide the name of the journal where this paper was published.\",\n",
    "    \"DOI_URL\": \"Extract the DOI or URL for this paper.\",\n",
    "    \"Theory_Hypotheses\": \"Please extract the main theories or hypotheses of the study.\",\n",
    "    \"Identification_Strategy\": \"Please explain the approach to establishing causality used in this study.\",\n",
    "    \"Exogeneity_Assumptions\": \"List any assumptions about exogeneity made in this study.\",\n",
    "    \"Control_Treatment_Definition\": \"Define the control and treatment groups as described in the study.\",\n",
    "    \"Intervention_Components\": \"List the specific components of the intervention.\",\n",
    "    # \"Intervention_Timing\": \"Describe the timing of the intervention.\",\n",
    "    # \"Sample_Size\": \"Provide the size of the sample studied.\",\n",
    "    # \"Country_Region\": \"Specify the country or region where the study was conducted.\",\n",
    "    # \"Population_Demographics\": \"Summarize the demographics of the population studied.\",\n",
    "    # \"Data_Source\": \"What is the source of the data used in this study?\",\n",
    "    # \"Health_Economic_Outcome_Measured\": \"List the health or economic outcomes measured in this study.\",\n",
    "    # \"Key_Findings\": \"Summarize the main findings of the study.\",\n",
    "    # \"Causal_Estimates\": \"Provide estimates of causal impact found in the study.\",\n",
    "    # \"Statistical_Significance\": \"Comment on the statistical significance of the results.\",\n",
    "    # \"Robustness_Checks\": \"Describe any robustness checks performed.\",\n",
    "    # \"Heterogeneity_Subgroup_Analysis\": \"Explain if any heterogeneity or subgroup analysis was conducted.\",\n",
    "    # \"Limitations\": \"List any limitations of the study.\",\n",
    "    # \"Endogeneity_Selection_Concerns\": \"Describe concerns about endogeneity or selection bias, if any.\",\n",
    "    # \"Policy_Implications\": \"What are the policy implications of the study’s findings?\"\n",
    "}\n",
    "\n"
   ]
  },
  {
   "cell_type": "code",
   "execution_count": 98,
   "metadata": {},
   "outputs": [],
   "source": [
    "# Initialize necessary lists and dictionaries\n",
    "vector_store_list = []\n",
    "thread_list = []\n",
    "response_per_file = {}\n",
    "all_responses = {}\n",
    "\n",
    "# Assuming `file_streams` is already defined and contains opened file objects\n",
    "# Assuming `queries` and `assistant_id` are also defined\n"
   ]
  },
  {
   "cell_type": "code",
   "execution_count": 99,
   "metadata": {},
   "outputs": [
    {
     "name": "stdout",
     "output_type": "stream",
     "text": [
      "Processed vector store and file batch for: acemoglu-2023-distorted-innovation-does-the-market-get-the-direction-of-technology-right.pdf\n",
      "Processed vector store and file batch for: guidetti-et-al-2021-placebo-tests-for-the-impacts-of-air-pollution-on-health-the-challenge-of-limited-health-care.pdf\n"
     ]
    }
   ],
   "source": [
    "for file_stream in file_streams:\n",
    "    # Extract the file name\n",
    "    name = file_stream.name.split(\"/\")[1]\n",
    "    \n",
    "    # Create a vector store\n",
    "    vector_store = client.beta.vector_stores.create(\n",
    "        name=\"Health Economics Research Papers V0.2\", \n",
    "        expires_after={\"anchor\": \"last_active_at\", \"days\": 1}\n",
    "    )\n",
    "    vector_store_list.append(vector_store)\n",
    "    \n",
    "    # Upload and poll the file batch to the vector store\n",
    "    file_batch = client.beta.vector_stores.file_batches.upload_and_poll(\n",
    "        vector_store_id=vector_store.id, files=[file_stream]\n",
    "    )\n",
    "    \n",
    "    # Store `name` and `vector_store` for later use in subsequent cells\n",
    "    print(f\"Processed vector store and file batch for: {name}\")\n"
   ]
  },
  {
   "cell_type": "code",
   "execution_count": 100,
   "metadata": {},
   "outputs": [
    {
     "name": "stdout",
     "output_type": "stream",
     "text": [
      "[VectorStore(id='vs_PCyAByajVcahXHjInC5TU4MK', created_at=1731602404, file_counts=FileCounts(cancelled=0, completed=0, failed=0, in_progress=0, total=0), last_active_at=1731602404, metadata={}, name='Health Economics Research Papers V0.2', object='vector_store', status='completed', usage_bytes=0, expires_after=ExpiresAfter(anchor='last_active_at', days=1), expires_at=1731688804), VectorStore(id='vs_T1QQjLp1o3pEBnnGhTXP99Gs', created_at=1731602410, file_counts=FileCounts(cancelled=0, completed=0, failed=0, in_progress=0, total=0), last_active_at=1731602410, metadata={}, name='Health Economics Research Papers V0.2', object='vector_store', status='completed', usage_bytes=0, expires_after=ExpiresAfter(anchor='last_active_at', days=1), expires_at=1731688810)]\n"
     ]
    }
   ],
   "source": [
    "print(vector_store_list)"
   ]
  },
  {
   "cell_type": "code",
   "execution_count": 101,
   "metadata": {},
   "outputs": [
    {
     "name": "stdout",
     "output_type": "stream",
     "text": [
      "Updated assistant and created thread for vector store ID: vs_PCyAByajVcahXHjInC5TU4MK\n",
      "Updated assistant and created thread for vector store ID: vs_T1QQjLp1o3pEBnnGhTXP99Gs\n"
     ]
    }
   ],
   "source": [
    "for vector_store in vector_store_list:\n",
    "    # Update assistant with the vector store ID\n",
    "    # assistant = client.beta.assistants.update(\n",
    "    #     assistant_id=assistant_id,\n",
    "    #     tool_resources={\"file_search\": {\"vector_store_ids\": [vector_store.id]}}\n",
    "    # )\n",
    "    \n",
    "    # Create a thread and add it to the thread list\n",
    "    thread = client.beta.threads.create(tool_resources={\"file_search\": {\"vector_store_ids\": [vector_store.id]}})\n",
    "    thread_list.append(thread.id)\n",
    "    \n",
    "    print(f\"Updated assistant and created thread for vector store ID: {vector_store.id}\")\n"
   ]
  },
  {
   "cell_type": "code",
   "execution_count": 102,
   "metadata": {},
   "outputs": [
    {
     "name": "stdout",
     "output_type": "stream",
     "text": [
      "['thread_Ie8zUiD1hdlCCYUv0ZBEU01t', 'thread_moJ0lhBGfUszhhYX4SUYYgmL']\n"
     ]
    }
   ],
   "source": [
    "print(thread_list)"
   ]
  },
  {
   "cell_type": "code",
   "execution_count": 103,
   "metadata": {},
   "outputs": [
    {
     "name": "stdout",
     "output_type": "stream",
     "text": [
      "Executing run for thread ID: thread_Ie8zUiD1hdlCCYUv0ZBEU01t\n",
      "Executing run for thread ID: thread_moJ0lhBGfUszhhYX4SUYYgmL\n"
     ]
    }
   ],
   "source": [
    "run_list = []\n",
    "for thread_id in thread_list:\n",
    "    response_per_file = {}\n",
    "    \n",
    "    for heading, query in queries.items():\n",
    "        # Send the query message to the thread\n",
    "        response = client.beta.threads.messages.create(\n",
    "            role=\"user\",\n",
    "            thread_id=thread_id,\n",
    "            content=query\n",
    "        )\n",
    "       # response_per_file[heading] = response.content\n",
    "    \n",
    "    # Execute the run and poll for completion\n",
    "    print(f\"Executing run for thread ID: {thread_id}\")\n",
    "    run = client.beta.threads.runs.create_and_poll(\n",
    "        thread_id=thread_id, assistant_id=assistant.id\n",
    "    )\n",
    "    run_list.append(run)\n",
    "    if run.status == \"completed\":\n",
    "        print(f\"Run completed for thread ID: {thread_id}\")\n"
   ]
  },
  {
   "cell_type": "code",
   "execution_count": 108,
   "metadata": {},
   "outputs": [
    {
     "name": "stdout",
     "output_type": "stream",
     "text": [
      "Run(id='run_44YhA5zCUQzebHSlvXOqS8kl', assistant_id='asst_EEaiZaR394wa9UIPrXAX6gr0', cancelled_at=None, completed_at=None, created_at=1731602450, expires_at=None, failed_at=1731602458, incomplete_details=None, instructions='You are an scientific researcher in the area of health economics. Use your knowledge base to help answer questions about the health economics research papers.', last_error=LastError(code='rate_limit_exceeded', message='Request too large for gpt-4o in organization org-ZImU13r27Api2b0n9bqJuyeN on tokens per min (TPM): Limit 30000, Requested 33376. The input or output tokens must be reduced in order to run successfully. Visit https://platform.openai.com/account/rate-limits to learn more.'), max_completion_tokens=None, max_prompt_tokens=None, metadata={}, model='gpt-4o', object='thread.run', parallel_tool_calls=True, required_action=None, response_format='auto', started_at=1731602451, status='failed', thread_id='thread_Ie8zUiD1hdlCCYUv0ZBEU01t', tool_choice='auto', tools=[FileSearchTool(type='file_search', file_search=FileSearch(max_num_results=None, ranking_options=FileSearchRankingOptions(score_threshold=0.0, ranker='default_2024_08_21')))], truncation_strategy=TruncationStrategy(type='auto', last_messages=None), usage=Usage(completion_tokens=71, prompt_tokens=998, total_tokens=1069, prompt_token_details={'cached_tokens': 0}), temperature=1.0, top_p=1.0, tool_resources={})\n",
      "Run(id='run_vgJnAglK6K0904ZiWfWrWHNy', assistant_id='asst_EEaiZaR394wa9UIPrXAX6gr0', cancelled_at=None, completed_at=None, created_at=1731602466, expires_at=None, failed_at=1731602474, incomplete_details=None, instructions='You are an scientific researcher in the area of health economics. Use your knowledge base to help answer questions about the health economics research papers.', last_error=LastError(code='rate_limit_exceeded', message='Request too large for gpt-4o in organization org-ZImU13r27Api2b0n9bqJuyeN on tokens per min (TPM): Limit 30000, Requested 33558. The input or output tokens must be reduced in order to run successfully. Visit https://platform.openai.com/account/rate-limits to learn more.'), max_completion_tokens=None, max_prompt_tokens=None, metadata={}, model='gpt-4o', object='thread.run', parallel_tool_calls=True, required_action=None, response_format='auto', started_at=1731602467, status='failed', thread_id='thread_moJ0lhBGfUszhhYX4SUYYgmL', tool_choice='auto', tools=[FileSearchTool(type='file_search', file_search=FileSearch(max_num_results=None, ranking_options=FileSearchRankingOptions(score_threshold=0.0, ranker='default_2024_08_21')))], truncation_strategy=TruncationStrategy(type='auto', last_messages=None), usage=Usage(completion_tokens=70, prompt_tokens=998, total_tokens=1068, prompt_token_details={'cached_tokens': 0}), temperature=1.0, top_p=1.0, tool_resources={})\n"
     ]
    }
   ],
   "source": [
    "#print(run_list)\n",
    "for run in run_list:\n",
    "    print(run)"
   ]
  },
  {
   "cell_type": "code",
   "execution_count": null,
   "metadata": {},
   "outputs": [],
   "source": [
    "for thread_id, run_id in zip(thread_list, run_list):\n",
    "    # Retrieve the messages after the run has completed\n",
    "    messages = list(client.beta.threads.messages.list(thread_id=thread_id, run_id=run.id))\n",
    "    \n",
    "    # Process the message content, annotations, and citations\n",
    "    message_content = messages[0].content[0].text\n",
    "    annotations = message_content.annotations\n",
    "    citations = []\n",
    "    \n",
    "    for index, annotation in enumerate(annotations):\n",
    "        message_content.value = message_content.value.replace(annotation.text, f\"[{index}]\")\n",
    "        if file_citation := getattr(annotation, \"file_citation\", None):\n",
    "            cited_file = client.files.retrieve(file_citation.file_id)\n",
    "            citations.append(f\"[{index}] {cited_file.filename}\")\n",
    "    \n",
    "    # Store the final content in `all_responses`\n",
    "    all_responses[name] = message_content.value\n",
    "    print(f\"Processed responses and citations for thread ID: {thread_id}\")\n"
   ]
  },
  {
   "cell_type": "code",
   "execution_count": null,
   "metadata": {},
   "outputs": [],
   "source": [
    "# import json\n",
    "\n",
    "# output_file = \"multiple_files_test01.json\"\n",
    "\n",
    "# thread_list = []\n",
    "# vector_store_list = []\n",
    "# all_responses = {}\n",
    "# response_per_file = {}\n",
    "# for file_stream in file_streams:\n",
    "\n",
    "#     name = file_stream.name.split(\"/\")[1]\n",
    "#     vector_store = client.beta.vector_stores.create(name=\"Health Economics Research Papers V0.2\", expires_after={\"anchor\": \"last_active_at\", \"days\": 1})\n",
    "#     vector_store_list.append(vector_store)\n",
    "    \n",
    "#     file_batch = client.beta.vector_stores.file_batches.upload_and_poll(\n",
    "#         vector_store_id=vector_store.id, files=[file_stream]\n",
    "#     )\n",
    "    \n",
    "#     if(file_batch.status == \"completed\"):\n",
    "#         assistant = client.beta.assistants.update(\n",
    "#             assistant_id=assistant_id,\n",
    "#             tool_resources={\"file_search\": {\"vector_store_ids\": [vector_store.id]}},\n",
    "#         )\n",
    "\n",
    "#         thread = client.beta.threads.create(tool_resources={\"file_search\": {\"vector_store_ids\": [vector_store.id]}})\n",
    "#         thread_list.append(thread.id)\n",
    "#         for heading, query in queries.items():\n",
    "#             response = client.beta.threads.messages.create(\n",
    "#             role= \"user\",\n",
    "#             thread_id=thread.id,  # Pass the thread_id to maintain context\n",
    "#             content= \"In the research paper \" + str(name) + \": \" + str(query)\n",
    "#             )\n",
    "#             response_per_file[heading] = response.content\n",
    "        \n",
    "#         print(\"Executing run for: \" + name)\n",
    "#         run = client.beta.threads.runs.create_and_poll(\n",
    "#             thread_id=thread.id, assistant_id=assistant.id\n",
    "#         )\n",
    "#         if(run.status == \"completed\"):\n",
    "#             messages = list(client.beta.threads.messages.list(thread_id = thread.id, run_id = run.id))\n",
    "\n",
    "#             message_content = messages[0].content[0].text\n",
    "#             annotations = message_content.annotations\n",
    "#             citations = []\n",
    "#             for index, annotation in enumerate(annotations):\n",
    "#                 message_content.value = message_content.value.replace(annotation.text, f\"[{index}]\")\n",
    "#                 if file_citation := getattr(annotation, \"file_citation\", None):\n",
    "#                     cited_file = client.files.retrieve(file_citation.file_id)\n",
    "#                     citations.append(f\"[{index}] {cited_file.filename}\")\n",
    "            \n",
    "#             all_responses[name] = message_content.value\n",
    "    \n"
   ]
  },
  {
   "cell_type": "code",
   "execution_count": 55,
   "metadata": {},
   "outputs": [
    {
     "name": "stdout",
     "output_type": "stream",
     "text": [
      "['thread_6EJeuip9wtmTdhouOtHNUTLf']\n",
      "[Message(id='msg_lbGnpncEJj3Dt46gCvjogW4C', assistant_id=None, attachments=[], completed_at=None, content=[TextContentBlock(text=Text(annotations=[], value='In the research paper acemoglu-2023-distorted-innovation-does-the-market-get-the-direction-of-technology-right.pdf: What are the policy implications of the study’s findings?'), type='text')], created_at=1731598628, incomplete_at=None, incomplete_details=None, metadata={}, object='thread.message', role='user', run_id=None, status=None, thread_id='thread_6EJeuip9wtmTdhouOtHNUTLf'), Message(id='msg_PTxOIYgIuvqsKATdkoQfZMsZ', assistant_id=None, attachments=[], completed_at=None, content=[TextContentBlock(text=Text(annotations=[], value='In the research paper acemoglu-2023-distorted-innovation-does-the-market-get-the-direction-of-technology-right.pdf: Describe concerns about endogeneity or selection bias, if any.'), type='text')], created_at=1731598628, incomplete_at=None, incomplete_details=None, metadata={}, object='thread.message', role='user', run_id=None, status=None, thread_id='thread_6EJeuip9wtmTdhouOtHNUTLf'), Message(id='msg_8qU3oJrkK0bNzDyYE5HzjSZU', assistant_id=None, attachments=[], completed_at=None, content=[TextContentBlock(text=Text(annotations=[], value='In the research paper acemoglu-2023-distorted-innovation-does-the-market-get-the-direction-of-technology-right.pdf: List any limitations of the study.'), type='text')], created_at=1731598628, incomplete_at=None, incomplete_details=None, metadata={}, object='thread.message', role='user', run_id=None, status=None, thread_id='thread_6EJeuip9wtmTdhouOtHNUTLf'), Message(id='msg_fVMT7B48ngNbUI5CdYMCvwJt', assistant_id=None, attachments=[], completed_at=None, content=[TextContentBlock(text=Text(annotations=[], value='In the research paper acemoglu-2023-distorted-innovation-does-the-market-get-the-direction-of-technology-right.pdf: Explain if any heterogeneity or subgroup analysis was conducted.'), type='text')], created_at=1731598628, incomplete_at=None, incomplete_details=None, metadata={}, object='thread.message', role='user', run_id=None, status=None, thread_id='thread_6EJeuip9wtmTdhouOtHNUTLf'), Message(id='msg_qAg62xxB5eITHBurHunBelV0', assistant_id=None, attachments=[], completed_at=None, content=[TextContentBlock(text=Text(annotations=[], value='In the research paper acemoglu-2023-distorted-innovation-does-the-market-get-the-direction-of-technology-right.pdf: Describe any robustness checks performed.'), type='text')], created_at=1731598627, incomplete_at=None, incomplete_details=None, metadata={}, object='thread.message', role='user', run_id=None, status=None, thread_id='thread_6EJeuip9wtmTdhouOtHNUTLf'), Message(id='msg_VhpyMkxc6EcFBDnnOqkIPGI3', assistant_id=None, attachments=[], completed_at=None, content=[TextContentBlock(text=Text(annotations=[], value='In the research paper acemoglu-2023-distorted-innovation-does-the-market-get-the-direction-of-technology-right.pdf: Comment on the statistical significance of the results.'), type='text')], created_at=1731598627, incomplete_at=None, incomplete_details=None, metadata={}, object='thread.message', role='user', run_id=None, status=None, thread_id='thread_6EJeuip9wtmTdhouOtHNUTLf'), Message(id='msg_s5nWMSa9skCWp9wqJWW2yVgR', assistant_id=None, attachments=[], completed_at=None, content=[TextContentBlock(text=Text(annotations=[], value='In the research paper acemoglu-2023-distorted-innovation-does-the-market-get-the-direction-of-technology-right.pdf: Provide estimates of causal impact found in the study.'), type='text')], created_at=1731598626, incomplete_at=None, incomplete_details=None, metadata={}, object='thread.message', role='user', run_id=None, status=None, thread_id='thread_6EJeuip9wtmTdhouOtHNUTLf'), Message(id='msg_oWGwD4RVFLI0fTqDji3JSBBH', assistant_id=None, attachments=[], completed_at=None, content=[TextContentBlock(text=Text(annotations=[], value='In the research paper acemoglu-2023-distorted-innovation-does-the-market-get-the-direction-of-technology-right.pdf: Summarize the main findings of the study.'), type='text')], created_at=1731598626, incomplete_at=None, incomplete_details=None, metadata={}, object='thread.message', role='user', run_id=None, status=None, thread_id='thread_6EJeuip9wtmTdhouOtHNUTLf'), Message(id='msg_BrrWB05iUP8iT2aN5gRneGy3', assistant_id=None, attachments=[], completed_at=None, content=[TextContentBlock(text=Text(annotations=[], value='In the research paper acemoglu-2023-distorted-innovation-does-the-market-get-the-direction-of-technology-right.pdf: List the health or economic outcomes measured in this study.'), type='text')], created_at=1731598625, incomplete_at=None, incomplete_details=None, metadata={}, object='thread.message', role='user', run_id=None, status=None, thread_id='thread_6EJeuip9wtmTdhouOtHNUTLf'), Message(id='msg_RjORf3JVAFAh5um4mdYtWN9l', assistant_id=None, attachments=[], completed_at=None, content=[TextContentBlock(text=Text(annotations=[], value='In the research paper acemoglu-2023-distorted-innovation-does-the-market-get-the-direction-of-technology-right.pdf: What is the source of the data used in this study?'), type='text')], created_at=1731598625, incomplete_at=None, incomplete_details=None, metadata={}, object='thread.message', role='user', run_id=None, status=None, thread_id='thread_6EJeuip9wtmTdhouOtHNUTLf'), Message(id='msg_Mm907EoZl3CE24C1nH5dmm6D', assistant_id=None, attachments=[], completed_at=None, content=[TextContentBlock(text=Text(annotations=[], value='In the research paper acemoglu-2023-distorted-innovation-does-the-market-get-the-direction-of-technology-right.pdf: Summarize the demographics of the population studied.'), type='text')], created_at=1731598625, incomplete_at=None, incomplete_details=None, metadata={}, object='thread.message', role='user', run_id=None, status=None, thread_id='thread_6EJeuip9wtmTdhouOtHNUTLf'), Message(id='msg_wzMA8fCmbHLiv5UOO97MPXIR', assistant_id=None, attachments=[], completed_at=None, content=[TextContentBlock(text=Text(annotations=[], value='In the research paper acemoglu-2023-distorted-innovation-does-the-market-get-the-direction-of-technology-right.pdf: Specify the country or region where the study was conducted.'), type='text')], created_at=1731598625, incomplete_at=None, incomplete_details=None, metadata={}, object='thread.message', role='user', run_id=None, status=None, thread_id='thread_6EJeuip9wtmTdhouOtHNUTLf'), Message(id='msg_bsBe34xeh3KVvHQwYUWUE7FR', assistant_id=None, attachments=[], completed_at=None, content=[TextContentBlock(text=Text(annotations=[], value='In the research paper acemoglu-2023-distorted-innovation-does-the-market-get-the-direction-of-technology-right.pdf: Provide the size of the sample studied.'), type='text')], created_at=1731598624, incomplete_at=None, incomplete_details=None, metadata={}, object='thread.message', role='user', run_id=None, status=None, thread_id='thread_6EJeuip9wtmTdhouOtHNUTLf'), Message(id='msg_S96Q3Pq0o8ml6X5nsKtGx3Qc', assistant_id=None, attachments=[], completed_at=None, content=[TextContentBlock(text=Text(annotations=[], value='In the research paper acemoglu-2023-distorted-innovation-does-the-market-get-the-direction-of-technology-right.pdf: Describe the timing of the intervention.'), type='text')], created_at=1731598624, incomplete_at=None, incomplete_details=None, metadata={}, object='thread.message', role='user', run_id=None, status=None, thread_id='thread_6EJeuip9wtmTdhouOtHNUTLf'), Message(id='msg_tlBrAsQehYRXB9412pwYeRsv', assistant_id=None, attachments=[], completed_at=None, content=[TextContentBlock(text=Text(annotations=[], value='In the research paper acemoglu-2023-distorted-innovation-does-the-market-get-the-direction-of-technology-right.pdf: List the specific components of the intervention.'), type='text')], created_at=1731598624, incomplete_at=None, incomplete_details=None, metadata={}, object='thread.message', role='user', run_id=None, status=None, thread_id='thread_6EJeuip9wtmTdhouOtHNUTLf'), Message(id='msg_Nnzf38gZljsJrxuLSUmxyB7B', assistant_id=None, attachments=[], completed_at=None, content=[TextContentBlock(text=Text(annotations=[], value='In the research paper acemoglu-2023-distorted-innovation-does-the-market-get-the-direction-of-technology-right.pdf: Define the control and treatment groups as described in the study.'), type='text')], created_at=1731598623, incomplete_at=None, incomplete_details=None, metadata={}, object='thread.message', role='user', run_id=None, status=None, thread_id='thread_6EJeuip9wtmTdhouOtHNUTLf'), Message(id='msg_SQFLD8CtAA5OFfeNXBtbZVkh', assistant_id=None, attachments=[], completed_at=None, content=[TextContentBlock(text=Text(annotations=[], value='In the research paper acemoglu-2023-distorted-innovation-does-the-market-get-the-direction-of-technology-right.pdf: List any assumptions about exogeneity made in this study.'), type='text')], created_at=1731598623, incomplete_at=None, incomplete_details=None, metadata={}, object='thread.message', role='user', run_id=None, status=None, thread_id='thread_6EJeuip9wtmTdhouOtHNUTLf'), Message(id='msg_UC9mqFekvcxGK1FapqE4xzPr', assistant_id=None, attachments=[], completed_at=None, content=[TextContentBlock(text=Text(annotations=[], value='In the research paper acemoglu-2023-distorted-innovation-does-the-market-get-the-direction-of-technology-right.pdf: Please explain the approach to establishing causality used in this study.'), type='text')], created_at=1731598623, incomplete_at=None, incomplete_details=None, metadata={}, object='thread.message', role='user', run_id=None, status=None, thread_id='thread_6EJeuip9wtmTdhouOtHNUTLf'), Message(id='msg_tV9eeML03cpYV4R9JXPDupZf', assistant_id=None, attachments=[], completed_at=None, content=[TextContentBlock(text=Text(annotations=[], value='In the research paper acemoglu-2023-distorted-innovation-does-the-market-get-the-direction-of-technology-right.pdf: Please extract the main theories or hypotheses of the study.'), type='text')], created_at=1731598622, incomplete_at=None, incomplete_details=None, metadata={}, object='thread.message', role='user', run_id=None, status=None, thread_id='thread_6EJeuip9wtmTdhouOtHNUTLf'), Message(id='msg_1jlHBeVQXlMvlZm8QOp3nKjI', assistant_id=None, attachments=[], completed_at=None, content=[TextContentBlock(text=Text(annotations=[], value='In the research paper acemoglu-2023-distorted-innovation-does-the-market-get-the-direction-of-technology-right.pdf: Extract the DOI or URL for this paper.'), type='text')], created_at=1731598622, incomplete_at=None, incomplete_details=None, metadata={}, object='thread.message', role='user', run_id=None, status=None, thread_id='thread_6EJeuip9wtmTdhouOtHNUTLf'), Message(id='msg_CJ1SX4u3GbC7VgFHR5zoT7CD', assistant_id=None, attachments=[], completed_at=None, content=[TextContentBlock(text=Text(annotations=[], value='In the research paper acemoglu-2023-distorted-innovation-does-the-market-get-the-direction-of-technology-right.pdf: Provide the name of the journal where this paper was published.'), type='text')], created_at=1731598622, incomplete_at=None, incomplete_details=None, metadata={}, object='thread.message', role='user', run_id=None, status=None, thread_id='thread_6EJeuip9wtmTdhouOtHNUTLf'), Message(id='msg_DowdMvlwva2gZRcjaGSmMCM1', assistant_id=None, attachments=[], completed_at=None, content=[TextContentBlock(text=Text(annotations=[], value='In the research paper acemoglu-2023-distorted-innovation-does-the-market-get-the-direction-of-technology-right.pdf: What year was this paper published?'), type='text')], created_at=1731598621, incomplete_at=None, incomplete_details=None, metadata={}, object='thread.message', role='user', run_id=None, status=None, thread_id='thread_6EJeuip9wtmTdhouOtHNUTLf'), Message(id='msg_kb9GaMgtNnTA06h2T3z5VrXD', assistant_id=None, attachments=[], completed_at=None, content=[TextContentBlock(text=Text(annotations=[], value='In the research paper acemoglu-2023-distorted-innovation-does-the-market-get-the-direction-of-technology-right.pdf: List the authors of the paper.'), type='text')], created_at=1731598621, incomplete_at=None, incomplete_details=None, metadata={}, object='thread.message', role='user', run_id=None, status=None, thread_id='thread_6EJeuip9wtmTdhouOtHNUTLf'), Message(id='msg_PTOvy0xz6dUGXLlzZPXRBw6F', assistant_id=None, attachments=[], completed_at=None, content=[TextContentBlock(text=Text(annotations=[], value='In the research paper acemoglu-2023-distorted-innovation-does-the-market-get-the-direction-of-technology-right.pdf: Please provide the title of the paper.'), type='text')], created_at=1731598621, incomplete_at=None, incomplete_details=None, metadata={}, object='thread.message', role='user', run_id=None, status=None, thread_id='thread_6EJeuip9wtmTdhouOtHNUTLf'), Message(id='msg_KxZBgYubajEpOCFxK08siAio', assistant_id=None, attachments=[], completed_at=None, content=[TextContentBlock(text=Text(annotations=[], value='In the research paper acemoglu-2023-distorted-innovation-does-the-market-get-the-direction-of-technology-right.pdf: Extract the unique identifier for this paper, if available. If not leave empty.'), type='text')], created_at=1731598620, incomplete_at=None, incomplete_details=None, metadata={}, object='thread.message', role='user', run_id=None, status=None, thread_id='thread_6EJeuip9wtmTdhouOtHNUTLf')]\n"
     ]
    }
   ],
   "source": [
    "print(thread_list)\n",
    "my_thread = client.beta.threads.retrieve(thread_list[0])\n",
    "\n",
    "thread_messages = list(client.beta.threads.messages.list(my_thread.id))\n",
    "\n",
    "message_content = thread_messages[0].content[0].text\n",
    "\n",
    "print(thread_messages)\n"
   ]
  },
  {
   "cell_type": "code",
   "execution_count": 36,
   "metadata": {},
   "outputs": [
    {
     "name": "stdout",
     "output_type": "stream",
     "text": [
      "Text(annotations=[], value='In the research paper acemoglu-2023-distorted-innovation-does-the-market-get-the-direction-of-technology-right.pdf: What are the policy implications of the study’s findings?')\n"
     ]
    }
   ],
   "source": [
    "print(message_content)\n"
   ]
  },
  {
   "cell_type": "code",
   "execution_count": 38,
   "metadata": {},
   "outputs": [],
   "source": [
    "with open(output_file, \"w\", encoding=\"utf-8\") as f:\n",
    "    json.dump(all_responses, f, indent=4)"
   ]
  }
 ],
 "metadata": {
  "kernelspec": {
   "display_name": "Python 3",
   "language": "python",
   "name": "python3"
  },
  "language_info": {
   "codemirror_mode": {
    "name": "ipython",
    "version": 3
   },
   "file_extension": ".py",
   "mimetype": "text/x-python",
   "name": "python",
   "nbconvert_exporter": "python",
   "pygments_lexer": "ipython3",
   "version": "3.11.8"
  }
 },
 "nbformat": 4,
 "nbformat_minor": 2
}
